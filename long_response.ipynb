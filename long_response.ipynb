{
 "cells": [
  {
   "cell_type": "code",
   "execution_count": 1,
   "id": "bfc9e01b",
   "metadata": {},
   "outputs": [],
   "source": [
    "import random\n",
    "\n",
    "R_EATING = \"I don't like eating anything because I'm a bot obviously!\"\n",
    "R_ADVICE = \"If I were you, I would go to the internet and type exactly what you wrote there!\"\n",
    "\n",
    "\n",
    "def unknown():\n",
    "    response = [\"Could you please re-phrase that? \",\n",
    "                \"...\",\n",
    "                \"Sounds about right.\",\n",
    "                \"What does that mean?\"][\n",
    "        random.randrange(4)]\n",
    "    return "
   ]
  },
  {
   "cell_type": "code",
   "execution_count": null,
   "id": "b820d97c",
   "metadata": {},
   "outputs": [],
   "source": []
  }
 ],
 "metadata": {
  "kernelspec": {
   "display_name": "Python 3",
   "language": "python",
   "name": "python3"
  },
  "language_info": {
   "codemirror_mode": {
    "name": "ipython",
    "version": 3
   },
   "file_extension": ".py",
   "mimetype": "text/x-python",
   "name": "python",
   "nbconvert_exporter": "python",
   "pygments_lexer": "ipython3",
   "version": "3.6.13"
  }
 },
 "nbformat": 4,
 "nbformat_minor": 5
}
